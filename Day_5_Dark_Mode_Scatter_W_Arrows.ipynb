{
 "cells": [
  {
   "cell_type": "markdown",
   "metadata": {},
   "source": [
    "# [#30DaysOfDataViz](http://www.30daysofdataviz.com/) - Day 5 - Stylized Dark Mode Scatter Plot - Zillow Data"
   ]
  },
  {
   "cell_type": "code",
   "execution_count": 1,
   "metadata": {},
   "outputs": [],
   "source": [
    "import pandas as pd\n",
    "import os\n",
    "import seaborn as sns\n",
    "import matplotlib.pyplot as plt\n",
    "import matplotlib"
   ]
  },
  {
   "cell_type": "code",
   "execution_count": 2,
   "metadata": {},
   "outputs": [],
   "source": [
    "dfl = pd.read_csv('https://files.zillowstatic.com/research/public_v2/mlp/Metro_mlp_uc_sfrcondo_raw_month.csv')\n",
    "dfs = pd.read_csv('https://files.zillowstatic.com/research/public_v2/median_sale_price/Metro_median_sale_price_uc_SFRCondo_raw_month.csv')"
   ]
  },
  {
   "cell_type": "code",
   "execution_count": 3,
   "metadata": {},
   "outputs": [],
   "source": [
    "city_list = ['Los Angeles-Long Beach-Anaheim, CA', 'Jacksonville, FL', 'San Francisco, CA', 'Nashville, TN', 'New York, NY']\n",
    "\n",
    "dfl = dfl[dfl['RegionName'].isin(city_list)]\n",
    "dfs = dfs[dfs['RegionName'].isin(city_list)]"
   ]
  },
  {
   "cell_type": "code",
   "execution_count": 4,
   "metadata": {},
   "outputs": [],
   "source": [
    "dfl.drop(['RegionID', 'SizeRank', 'RegionType', 'StateName'], axis=1, inplace=True)\n",
    "dfs.drop(['RegionID', 'SizeRank', 'RegionType', 'StateName'], axis=1, inplace=True)"
   ]
  },
  {
   "cell_type": "code",
   "execution_count": 5,
   "metadata": {},
   "outputs": [],
   "source": [
    "dfl = dfl.melt(id_vars=['RegionName'],\n",
    "         value_vars=dfl.columns[1:-1],\n",
    "         var_name='date',\n",
    "         value_name='price')\n",
    "\n",
    "dfs = dfs.melt(id_vars=['RegionName'],\n",
    "         value_vars=dfs.columns[1:-1],\n",
    "         var_name='date',\n",
    "         value_name='price')"
   ]
  },
  {
   "cell_type": "code",
   "execution_count": 6,
   "metadata": {},
   "outputs": [],
   "source": [
    "df = pd.merge(dfl, dfs, on=['RegionName', 'date'], suffixes=('_list', '_sale'))\n",
    "\n",
    "df['date'] = pd.to_datetime(df['date'])\n",
    "min_date = df['date'].min()\n",
    "max_date = df['date'].max()"
   ]
  },
  {
   "cell_type": "code",
   "execution_count": 7,
   "metadata": {},
   "outputs": [],
   "source": [
    "dfmin = df[df['date']==min_date]\n",
    "dfmax = df[df['date']==max_date]"
   ]
  },
  {
   "cell_type": "code",
   "execution_count": 20,
   "metadata": {},
   "outputs": [
    {
     "data": {
      "text/html": [
       "<div>\n",
       "<style scoped>\n",
       "    .dataframe tbody tr th:only-of-type {\n",
       "        vertical-align: middle;\n",
       "    }\n",
       "\n",
       "    .dataframe tbody tr th {\n",
       "        vertical-align: top;\n",
       "    }\n",
       "\n",
       "    .dataframe thead th {\n",
       "        text-align: right;\n",
       "    }\n",
       "</style>\n",
       "<table border=\"1\" class=\"dataframe\">\n",
       "  <thead>\n",
       "    <tr style=\"text-align: right;\">\n",
       "      <th></th>\n",
       "      <th>RegionName</th>\n",
       "      <th>date</th>\n",
       "      <th>price_list</th>\n",
       "      <th>price_sale</th>\n",
       "    </tr>\n",
       "  </thead>\n",
       "  <tbody>\n",
       "    <tr>\n",
       "      <th>0</th>\n",
       "      <td>New York, NY</td>\n",
       "      <td>2017-11-30</td>\n",
       "      <td>524900.0</td>\n",
       "      <td>400000.0</td>\n",
       "    </tr>\n",
       "    <tr>\n",
       "      <th>1</th>\n",
       "      <td>Los Angeles-Long Beach-Anaheim, CA</td>\n",
       "      <td>2017-11-30</td>\n",
       "      <td>795000.0</td>\n",
       "      <td>620000.0</td>\n",
       "    </tr>\n",
       "    <tr>\n",
       "      <th>2</th>\n",
       "      <td>San Francisco, CA</td>\n",
       "      <td>2017-11-30</td>\n",
       "      <td>825000.0</td>\n",
       "      <td>787000.0</td>\n",
       "    </tr>\n",
       "    <tr>\n",
       "      <th>3</th>\n",
       "      <td>Nashville, TN</td>\n",
       "      <td>2017-11-30</td>\n",
       "      <td>374900.0</td>\n",
       "      <td>265000.0</td>\n",
       "    </tr>\n",
       "    <tr>\n",
       "      <th>4</th>\n",
       "      <td>Jacksonville, FL</td>\n",
       "      <td>2017-11-30</td>\n",
       "      <td>288008.0</td>\n",
       "      <td>226995.0</td>\n",
       "    </tr>\n",
       "  </tbody>\n",
       "</table>\n",
       "</div>"
      ],
      "text/plain": [
       "                           RegionName       date  price_list  price_sale\n",
       "0                        New York, NY 2017-11-30    524900.0    400000.0\n",
       "1  Los Angeles-Long Beach-Anaheim, CA 2017-11-30    795000.0    620000.0\n",
       "2                   San Francisco, CA 2017-11-30    825000.0    787000.0\n",
       "3                       Nashville, TN 2017-11-30    374900.0    265000.0\n",
       "4                    Jacksonville, FL 2017-11-30    288008.0    226995.0"
      ]
     },
     "execution_count": 20,
     "metadata": {},
     "output_type": "execute_result"
    }
   ],
   "source": [
    "dfmin.head()"
   ]
  },
  {
   "cell_type": "code",
   "execution_count": 22,
   "metadata": {},
   "outputs": [
    {
     "data": {
      "image/png": "[encoded data removed]",
      "text/plain": [
       "<Figure size 1123.2x748.8 with 1 Axes>"
      ]
     },
     "metadata": {
      "needs_background": "light"
     },
     "output_type": "display_data"
    }
   ],
   "source": [
    "colors = {\"New York, NY\": \"#9b5de5\",\n",
    "          \"Los Angeles-Long Beach-Anaheim, CA\": \"#f15bb5\",\n",
    "          \"San Francisco, CA\": \"#fee440\",\n",
    "          \"Nashville, TN\": \"#00bbf9\",\n",
    "          \"Jacksonville, FL\": \"#00F5D4\"}\n",
    "\n",
    "# Plot a sine and cosine curve\n",
    "fig, ax = plt.subplots(figsize=(12*1.3,8*1.3))\n",
    "\n",
    "dfa = pd.merge(dfmin[['RegionName', 'price_list', 'price_sale']],\n",
    "         dfmax[['RegionName', 'price_list', 'price_sale']],\n",
    "         on='RegionName',\n",
    "         suffixes=['_min', '_max'])\n",
    "\n",
    "arrow_conserve = .1\n",
    "x_conserv = df['price_list'].max() - df['price_list'].min()\n",
    "y_conserv = df['price_sale'].max() - df['price_sale'].min()\n",
    "\n",
    "# #add arrows to plot\n",
    "# for i, row in dfa.iterrows():\n",
    "#     delta_list = (row['price_list_max'] - row['price_list_min'])\n",
    "#     delta_sale = (row['price_sale_max'] - row['price_sale_min'])\n",
    "    \n",
    "#     ax.text(x=row['price_list_min'] + (delta_list * .40),\n",
    "#              y=row['price_sale_min'] + (delta_sale * .5), \n",
    "#              s=row['RegionName'],\n",
    "#              horizontalalignment = 'right')\n",
    "    \n",
    "#     ax.arrow(x  = row['price_list_min'] + (delta_list * arrow_conserve),  \n",
    "#               y  = row['price_sale_min'] + (delta_sale * arrow_conserve),                  \n",
    "#               dx = delta_list * (1 -  (2*arrow_conserve)),   \n",
    "#               dy = delta_sale * (1 -  (2*arrow_conserve)), \n",
    "#               head_width = 10000,\n",
    "#               head_length = 20000,\n",
    "#               width=5000,\n",
    "#              length_includes_head=True)\n",
    "\n",
    "ax.scatter(x=dfmin['price_list'], y=dfmin['price_sale'], s=1200, c=colors.values(), alpha=.3)\n",
    "ax.scatter(x=dfmax['price_list'], y=dfmax['price_sale'], s=1200, c=colors.values())\n",
    "ax.set_xlim(200000,1100000)\n",
    "ax.set_ylim(150000,1000000)\n",
    "\n",
    "ax.get_xaxis().set_major_formatter(matplotlib.ticker.FuncFormatter(lambda x, p: format(int(x), ',')))\n",
    "ax.get_yaxis().set_major_formatter(matplotlib.ticker.FuncFormatter(lambda x, p: format(int(x), ',')))\n",
    "\n",
    "plt.savefig('data/Day5DarkModeScatter.png', transparent=True)"
   ]
  }
 ],
 "metadata": {
  "kernelspec": {
   "display_name": "Python 3",
   "language": "python",
   "name": "python3"
  },
  "language_info": {
   "codemirror_mode": {
    "name": "ipython",
    "version": 3
   },
   "file_extension": ".py",
   "mimetype": "text/x-python",
   "name": "python",
   "nbconvert_exporter": "python",
   "pygments_lexer": "ipython3",
   "version": "3.7.6"
  }
 },
 "nbformat": 4,
 "nbformat_minor": 4
}
